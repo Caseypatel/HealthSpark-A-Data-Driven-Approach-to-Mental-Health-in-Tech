{
 "cells": [
  {
   "cell_type": "markdown",
   "id": "643139a1",
   "metadata": {},
   "source": [
    "## Introduction"
   ]
  },
  {
   "cell_type": "markdown",
   "id": "96084746",
   "metadata": {},
   "source": [
    "The dataset is obtained from Kaggle called Mental Health in Tech Survey. This dataset is from a 2014 survey that measures\n",
    "attitudes towards mental health and frequency of mental health disorders in the tech workplace."
   ]
  },
  {
   "cell_type": "markdown",
   "id": "6b8d8e2e",
   "metadata": {},
   "source": [
    "This step focuses on collecting your data, organizing it, and making sure it's well defined. Paying attention to these \n",
    "tasks will pay off greatly later on."
   ]
  },
  {
   "cell_type": "markdown",
   "id": "c65fb59b",
   "metadata": {},
   "source": [
    "## Imports"
   ]
  },
  {
   "cell_type": "code",
   "execution_count": 3,
   "id": "51772ec3",
   "metadata": {},
   "outputs": [],
   "source": [
    "#Import the modules \n",
    "import csv\n",
    "import pandas as pd\n",
    "import numpy as np\n",
    "from sklearn import preprocessing\n",
    "import matplotlib as plt"
   ]
  },
  {
   "cell_type": "markdown",
   "id": "a07eaed6",
   "metadata": {},
   "source": [
    "## Load the Survey data"
   ]
  },
  {
   "cell_type": "code",
   "execution_count": 4,
   "id": "b65a7715",
   "metadata": {},
   "outputs": [],
   "source": [
    "#created a dataframe to store the data in\n",
    "\n",
    "df = pd.read_csv(\"C:/Users/keshi/Downloads/Medical/survey.csv\")"
   ]
  },
  {
   "cell_type": "code",
   "execution_count": 5,
   "id": "359eff4d",
   "metadata": {},
   "outputs": [
    {
     "data": {
      "text/html": [
       "<div>\n",
       "<style scoped>\n",
       "    .dataframe tbody tr th:only-of-type {\n",
       "        vertical-align: middle;\n",
       "    }\n",
       "\n",
       "    .dataframe tbody tr th {\n",
       "        vertical-align: top;\n",
       "    }\n",
       "\n",
       "    .dataframe thead th {\n",
       "        text-align: right;\n",
       "    }\n",
       "</style>\n",
       "<table border=\"1\" class=\"dataframe\">\n",
       "  <thead>\n",
       "    <tr style=\"text-align: right;\">\n",
       "      <th></th>\n",
       "      <th>Timestamp</th>\n",
       "      <th>Age</th>\n",
       "      <th>Gender</th>\n",
       "      <th>Country</th>\n",
       "      <th>state</th>\n",
       "      <th>self_employed</th>\n",
       "      <th>family_history</th>\n",
       "      <th>treatment</th>\n",
       "      <th>work_interfere</th>\n",
       "      <th>no_employees</th>\n",
       "      <th>...</th>\n",
       "      <th>leave</th>\n",
       "      <th>mental_health_consequence</th>\n",
       "      <th>phys_health_consequence</th>\n",
       "      <th>coworkers</th>\n",
       "      <th>supervisor</th>\n",
       "      <th>mental_health_interview</th>\n",
       "      <th>phys_health_interview</th>\n",
       "      <th>mental_vs_physical</th>\n",
       "      <th>obs_consequence</th>\n",
       "      <th>comments</th>\n",
       "    </tr>\n",
       "  </thead>\n",
       "  <tbody>\n",
       "    <tr>\n",
       "      <th>0</th>\n",
       "      <td>2014-08-27 11:29:31</td>\n",
       "      <td>37</td>\n",
       "      <td>Female</td>\n",
       "      <td>United States</td>\n",
       "      <td>IL</td>\n",
       "      <td>NaN</td>\n",
       "      <td>No</td>\n",
       "      <td>Yes</td>\n",
       "      <td>Often</td>\n",
       "      <td>6-25</td>\n",
       "      <td>...</td>\n",
       "      <td>Somewhat easy</td>\n",
       "      <td>No</td>\n",
       "      <td>No</td>\n",
       "      <td>Some of them</td>\n",
       "      <td>Yes</td>\n",
       "      <td>No</td>\n",
       "      <td>Maybe</td>\n",
       "      <td>Yes</td>\n",
       "      <td>No</td>\n",
       "      <td>NaN</td>\n",
       "    </tr>\n",
       "    <tr>\n",
       "      <th>1</th>\n",
       "      <td>2014-08-27 11:29:37</td>\n",
       "      <td>44</td>\n",
       "      <td>M</td>\n",
       "      <td>United States</td>\n",
       "      <td>IN</td>\n",
       "      <td>NaN</td>\n",
       "      <td>No</td>\n",
       "      <td>No</td>\n",
       "      <td>Rarely</td>\n",
       "      <td>More than 1000</td>\n",
       "      <td>...</td>\n",
       "      <td>Don't know</td>\n",
       "      <td>Maybe</td>\n",
       "      <td>No</td>\n",
       "      <td>No</td>\n",
       "      <td>No</td>\n",
       "      <td>No</td>\n",
       "      <td>No</td>\n",
       "      <td>Don't know</td>\n",
       "      <td>No</td>\n",
       "      <td>NaN</td>\n",
       "    </tr>\n",
       "    <tr>\n",
       "      <th>2</th>\n",
       "      <td>2014-08-27 11:29:44</td>\n",
       "      <td>32</td>\n",
       "      <td>Male</td>\n",
       "      <td>Canada</td>\n",
       "      <td>NaN</td>\n",
       "      <td>NaN</td>\n",
       "      <td>No</td>\n",
       "      <td>No</td>\n",
       "      <td>Rarely</td>\n",
       "      <td>6-25</td>\n",
       "      <td>...</td>\n",
       "      <td>Somewhat difficult</td>\n",
       "      <td>No</td>\n",
       "      <td>No</td>\n",
       "      <td>Yes</td>\n",
       "      <td>Yes</td>\n",
       "      <td>Yes</td>\n",
       "      <td>Yes</td>\n",
       "      <td>No</td>\n",
       "      <td>No</td>\n",
       "      <td>NaN</td>\n",
       "    </tr>\n",
       "    <tr>\n",
       "      <th>3</th>\n",
       "      <td>2014-08-27 11:29:46</td>\n",
       "      <td>31</td>\n",
       "      <td>Male</td>\n",
       "      <td>United Kingdom</td>\n",
       "      <td>NaN</td>\n",
       "      <td>NaN</td>\n",
       "      <td>Yes</td>\n",
       "      <td>Yes</td>\n",
       "      <td>Often</td>\n",
       "      <td>26-100</td>\n",
       "      <td>...</td>\n",
       "      <td>Somewhat difficult</td>\n",
       "      <td>Yes</td>\n",
       "      <td>Yes</td>\n",
       "      <td>Some of them</td>\n",
       "      <td>No</td>\n",
       "      <td>Maybe</td>\n",
       "      <td>Maybe</td>\n",
       "      <td>No</td>\n",
       "      <td>Yes</td>\n",
       "      <td>NaN</td>\n",
       "    </tr>\n",
       "    <tr>\n",
       "      <th>4</th>\n",
       "      <td>2014-08-27 11:30:22</td>\n",
       "      <td>31</td>\n",
       "      <td>Male</td>\n",
       "      <td>United States</td>\n",
       "      <td>TX</td>\n",
       "      <td>NaN</td>\n",
       "      <td>No</td>\n",
       "      <td>No</td>\n",
       "      <td>Never</td>\n",
       "      <td>100-500</td>\n",
       "      <td>...</td>\n",
       "      <td>Don't know</td>\n",
       "      <td>No</td>\n",
       "      <td>No</td>\n",
       "      <td>Some of them</td>\n",
       "      <td>Yes</td>\n",
       "      <td>Yes</td>\n",
       "      <td>Yes</td>\n",
       "      <td>Don't know</td>\n",
       "      <td>No</td>\n",
       "      <td>NaN</td>\n",
       "    </tr>\n",
       "  </tbody>\n",
       "</table>\n",
       "<p>5 rows × 27 columns</p>\n",
       "</div>"
      ],
      "text/plain": [
       "             Timestamp  Age  Gender         Country state self_employed  \\\n",
       "0  2014-08-27 11:29:31   37  Female   United States    IL           NaN   \n",
       "1  2014-08-27 11:29:37   44       M   United States    IN           NaN   \n",
       "2  2014-08-27 11:29:44   32    Male          Canada   NaN           NaN   \n",
       "3  2014-08-27 11:29:46   31    Male  United Kingdom   NaN           NaN   \n",
       "4  2014-08-27 11:30:22   31    Male   United States    TX           NaN   \n",
       "\n",
       "  family_history treatment work_interfere    no_employees  ...  \\\n",
       "0             No       Yes          Often            6-25  ...   \n",
       "1             No        No         Rarely  More than 1000  ...   \n",
       "2             No        No         Rarely            6-25  ...   \n",
       "3            Yes       Yes          Often          26-100  ...   \n",
       "4             No        No          Never         100-500  ...   \n",
       "\n",
       "                leave mental_health_consequence phys_health_consequence  \\\n",
       "0       Somewhat easy                        No                      No   \n",
       "1          Don't know                     Maybe                      No   \n",
       "2  Somewhat difficult                        No                      No   \n",
       "3  Somewhat difficult                       Yes                     Yes   \n",
       "4          Don't know                        No                      No   \n",
       "\n",
       "      coworkers supervisor mental_health_interview phys_health_interview  \\\n",
       "0  Some of them        Yes                      No                 Maybe   \n",
       "1            No         No                      No                    No   \n",
       "2           Yes        Yes                     Yes                   Yes   \n",
       "3  Some of them         No                   Maybe                 Maybe   \n",
       "4  Some of them        Yes                     Yes                   Yes   \n",
       "\n",
       "  mental_vs_physical obs_consequence comments  \n",
       "0                Yes              No      NaN  \n",
       "1         Don't know              No      NaN  \n",
       "2                 No              No      NaN  \n",
       "3                 No             Yes      NaN  \n",
       "4         Don't know              No      NaN  \n",
       "\n",
       "[5 rows x 27 columns]"
      ]
     },
     "execution_count": 5,
     "metadata": {},
     "output_type": "execute_result"
    }
   ],
   "source": [
    "df.head()"
   ]
  },
  {
   "cell_type": "code",
   "execution_count": 6,
   "id": "7579cd65",
   "metadata": {},
   "outputs": [
    {
     "name": "stdout",
     "output_type": "stream",
     "text": [
      "<class 'pandas.core.frame.DataFrame'>\n",
      "RangeIndex: 1259 entries, 0 to 1258\n",
      "Data columns (total 27 columns):\n",
      " #   Column                     Non-Null Count  Dtype \n",
      "---  ------                     --------------  ----- \n",
      " 0   Timestamp                  1259 non-null   object\n",
      " 1   Age                        1259 non-null   int64 \n",
      " 2   Gender                     1259 non-null   object\n",
      " 3   Country                    1259 non-null   object\n",
      " 4   state                      744 non-null    object\n",
      " 5   self_employed              1241 non-null   object\n",
      " 6   family_history             1259 non-null   object\n",
      " 7   treatment                  1259 non-null   object\n",
      " 8   work_interfere             995 non-null    object\n",
      " 9   no_employees               1259 non-null   object\n",
      " 10  remote_work                1259 non-null   object\n",
      " 11  tech_company               1259 non-null   object\n",
      " 12  benefits                   1259 non-null   object\n",
      " 13  care_options               1259 non-null   object\n",
      " 14  wellness_program           1259 non-null   object\n",
      " 15  seek_help                  1259 non-null   object\n",
      " 16  anonymity                  1259 non-null   object\n",
      " 17  leave                      1259 non-null   object\n",
      " 18  mental_health_consequence  1259 non-null   object\n",
      " 19  phys_health_consequence    1259 non-null   object\n",
      " 20  coworkers                  1259 non-null   object\n",
      " 21  supervisor                 1259 non-null   object\n",
      " 22  mental_health_interview    1259 non-null   object\n",
      " 23  phys_health_interview      1259 non-null   object\n",
      " 24  mental_vs_physical         1259 non-null   object\n",
      " 25  obs_consequence            1259 non-null   object\n",
      " 26  comments                   164 non-null    object\n",
      "dtypes: int64(1), object(26)\n",
      "memory usage: 265.7+ KB\n"
     ]
    }
   ],
   "source": [
    "df.info()"
   ]
  },
  {
   "cell_type": "code",
   "execution_count": 7,
   "id": "bfe7607e",
   "metadata": {},
   "outputs": [],
   "source": [
    "#convert Timestamp from datetime to datetime64 type\n",
    "df['Timestamp'] = df['Timestamp'].astype('datetime64[ns]')"
   ]
  },
  {
   "cell_type": "code",
   "execution_count": 8,
   "id": "d008c2f3",
   "metadata": {},
   "outputs": [
    {
     "data": {
      "text/plain": [
       "pandas.core.series.Series"
      ]
     },
     "execution_count": 8,
     "metadata": {},
     "output_type": "execute_result"
    }
   ],
   "source": [
    "#checking the type of Gender \n",
    "type(df['Gender'])"
   ]
  },
  {
   "cell_type": "code",
   "execution_count": 9,
   "id": "b5042d2c",
   "metadata": {},
   "outputs": [],
   "source": [
    "df.Gender.replace({'Female': 1, 'female': 1, 'f': 1, 'F': 1, 'Male': 0, 'male': 0, 'm': 0, 'M': 0, r'[a-z]+':1}, regex=True, inplace=True)"
   ]
  },
  {
   "cell_type": "code",
   "execution_count": 10,
   "id": "bbc9feae",
   "metadata": {},
   "outputs": [],
   "source": [
    "Countries = {}\n",
    "\n",
    "# Iterate over each value in the 'Country' column of the DataFrame\n",
    "for country in df['Country']:\n",
    "    # Check if the country is already a key in the dictionary\n",
    "    if country in Countries:\n",
    "        # If it is, increment the count by 1\n",
    "        Countries[country] += 1\n",
    "    else:\n",
    "        # If it isn't, add the country as a new key with a count of 1\n",
    "        Countries[country] = 1"
   ]
  },
  {
   "cell_type": "code",
   "execution_count": 11,
   "id": "8648ed10",
   "metadata": {},
   "outputs": [
    {
     "data": {
      "text/plain": [
       "{'United States': 751,\n",
       " 'Canada': 72,\n",
       " 'United Kingdom': 185,\n",
       " 'Bulgaria': 4,\n",
       " 'France': 13,\n",
       " 'Portugal': 2,\n",
       " 'Netherlands': 27,\n",
       " 'Switzerland': 7,\n",
       " 'Poland': 7,\n",
       " 'Australia': 21,\n",
       " 'Germany': 45,\n",
       " 'Russia': 3,\n",
       " 'Mexico': 3,\n",
       " 'Brazil': 6,\n",
       " 'Slovenia': 1,\n",
       " 'Costa Rica': 1,\n",
       " 'Austria': 3,\n",
       " 'Ireland': 27,\n",
       " 'India': 10,\n",
       " 'South Africa': 6,\n",
       " 'Italy': 7,\n",
       " 'Sweden': 7,\n",
       " 'Colombia': 2,\n",
       " 'Latvia': 1,\n",
       " 'Romania': 1,\n",
       " 'Belgium': 6,\n",
       " 'New Zealand': 8,\n",
       " 'Zimbabwe': 1,\n",
       " 'Spain': 1,\n",
       " 'Finland': 3,\n",
       " 'Uruguay': 1,\n",
       " 'Israel': 5,\n",
       " 'Bosnia and Herzegovina': 1,\n",
       " 'Hungary': 1,\n",
       " 'Singapore': 4,\n",
       " 'Japan': 1,\n",
       " 'Nigeria': 1,\n",
       " 'Croatia': 2,\n",
       " 'Norway': 1,\n",
       " 'Thailand': 1,\n",
       " 'Denmark': 2,\n",
       " 'Bahamas, The': 1,\n",
       " 'Greece': 2,\n",
       " 'Moldova': 1,\n",
       " 'Georgia': 1,\n",
       " 'China': 1,\n",
       " 'Czech Republic': 1,\n",
       " 'Philippines': 1}"
      ]
     },
     "execution_count": 11,
     "metadata": {},
     "output_type": "execute_result"
    }
   ],
   "source": [
    "Countries"
   ]
  },
  {
   "cell_type": "code",
   "execution_count": 12,
   "id": "7385fb9b",
   "metadata": {},
   "outputs": [],
   "source": [
    "#create a dictionary to see the kind of values in leaves columumns\n",
    "leave_difficulty = {}\n",
    "for leave in df['leave']:\n",
    "    if leave in leave_difficulty:\n",
    "        leave_difficulty[leave] += 1\n",
    "    else:\n",
    "        leave_difficulty[leave] = 1"
   ]
  },
  {
   "cell_type": "code",
   "execution_count": 13,
   "id": "3e4287a9",
   "metadata": {},
   "outputs": [
    {
     "data": {
      "text/plain": [
       "{'Somewhat easy': 266,\n",
       " \"Don't know\": 563,\n",
       " 'Somewhat difficult': 126,\n",
       " 'Very difficult': 98,\n",
       " 'Very easy': 206}"
      ]
     },
     "execution_count": 13,
     "metadata": {},
     "output_type": "execute_result"
    }
   ],
   "source": [
    "leave_difficulty"
   ]
  },
  {
   "cell_type": "code",
   "execution_count": 14,
   "id": "dc2b65ca",
   "metadata": {},
   "outputs": [],
   "source": [
    "#convert the leave list into categorical data\n",
    "for leave in df['leave']:\n",
    "    if leave == 'Very easy':\n",
    "        leave = 0\n",
    "    elif leave == 'Somewhat easy':\n",
    "        leave = 1\n",
    "    elif leave == 'Somewhat difficult':\n",
    "        leave = 2\n",
    "    elif leave == 'Very difficult':\n",
    "        leave = 3\n",
    "    elif leave[0] == 'D':\n",
    "        leave = 4"
   ]
  },
  {
   "cell_type": "code",
   "execution_count": 15,
   "id": "29694806",
   "metadata": {},
   "outputs": [],
   "source": [
    "df.leave.replace({'Somewhat difficult': 2, 'Somewhat easy': 1, 'Very difficult': 3, 'Very easy': 0, 'Don\\'t know': 4}, inplace=True)"
   ]
  },
  {
   "cell_type": "code",
   "execution_count": 16,
   "id": "f36f7a97",
   "metadata": {},
   "outputs": [],
   "source": [
    "#create a dictionary to see the values in number of employees columumns\n",
    "no_employees = {}\n",
    "for num in df['no_employees']:\n",
    "    if num in no_employees:\n",
    "        no_employees[num] += 1\n",
    "    else:\n",
    "        no_employees[num] = 1"
   ]
  },
  {
   "cell_type": "code",
   "execution_count": 17,
   "id": "e31d97ab",
   "metadata": {},
   "outputs": [
    {
     "data": {
      "text/plain": [
       "{'6-25': 290,\n",
       " 'More than 1000': 282,\n",
       " '26-100': 289,\n",
       " '100-500': 176,\n",
       " '1-5': 162,\n",
       " '500-1000': 60}"
      ]
     },
     "execution_count": 17,
     "metadata": {},
     "output_type": "execute_result"
    }
   ],
   "source": [
    "no_employees"
   ]
  },
  {
   "cell_type": "code",
   "execution_count": 18,
   "id": "22c9802a",
   "metadata": {},
   "outputs": [],
   "source": [
    "df.no_employees.replace({'1-5': 0, '100-500': 3, '26-100': 2, '500-1000': 4, '6-25': 1, 'More than 1000': 5}, inplace=True)"
   ]
  },
  {
   "cell_type": "code",
   "execution_count": 19,
   "id": "406629e0",
   "metadata": {},
   "outputs": [],
   "source": [
    "#create a dictionary to see the values in family history columumns\n",
    "family_history = {}\n",
    "for history in df['family_history']:\n",
    "    if history in family_history:\n",
    "        family_history[history] += 1\n",
    "    else:\n",
    "        family_history[history] = 1"
   ]
  },
  {
   "cell_type": "code",
   "execution_count": 20,
   "id": "ee4cc762",
   "metadata": {},
   "outputs": [
    {
     "data": {
      "text/plain": [
       "{'No': 767, 'Yes': 492}"
      ]
     },
     "execution_count": 20,
     "metadata": {},
     "output_type": "execute_result"
    }
   ],
   "source": [
    "family_history"
   ]
  },
  {
   "cell_type": "markdown",
   "id": "747dbf13",
   "metadata": {},
   "source": [
    "# Label Encoding #1"
   ]
  },
  {
   "cell_type": "code",
   "execution_count": 21,
   "id": "5e99cb79",
   "metadata": {},
   "outputs": [],
   "source": [
    "le = preprocessing.LabelEncoder()"
   ]
  },
  {
   "cell_type": "code",
   "execution_count": 22,
   "id": "03f78cef",
   "metadata": {},
   "outputs": [],
   "source": [
    "df[['family_history', 'treatment', 'remote_work', 'tech_company']] = df[['family_history', 'treatment', 'remote_work', 'tech_company']].apply(le.fit_transform)"
   ]
  },
  {
   "cell_type": "code",
   "execution_count": 23,
   "id": "b46b3938",
   "metadata": {},
   "outputs": [],
   "source": [
    "#Removing 'comments' column from df\n",
    "df = df.drop('comments', axis=1)"
   ]
  },
  {
   "cell_type": "code",
   "execution_count": 24,
   "id": "b92b2b19",
   "metadata": {},
   "outputs": [],
   "source": [
    "#create a dictionary to see the values in self_employed columumns\n",
    "self_employed = {}\n",
    "for option in df['self_employed']:\n",
    "    if option in self_employed:\n",
    "        self_employed[option] += 1\n",
    "    else:\n",
    "        self_employed[option] = 1\n"
   ]
  },
  {
   "cell_type": "code",
   "execution_count": 25,
   "id": "ed823dbd",
   "metadata": {},
   "outputs": [
    {
     "data": {
      "text/plain": [
       "{nan: 18, 'Yes': 146, 'No': 1095}"
      ]
     },
     "execution_count": 25,
     "metadata": {},
     "output_type": "execute_result"
    }
   ],
   "source": [
    "self_employed"
   ]
  },
  {
   "cell_type": "code",
   "execution_count": 26,
   "id": "89f30f40",
   "metadata": {},
   "outputs": [],
   "source": [
    "#create a dictionary to see the values in benefits columumns\n",
    "benefits = {}\n",
    "for benefit in df['benefits']:\n",
    "    if benefit in benefits:\n",
    "        benefits[benefit] += 1\n",
    "    else:\n",
    "        benefits[benefit] = 1"
   ]
  },
  {
   "cell_type": "code",
   "execution_count": 27,
   "id": "586282c1",
   "metadata": {},
   "outputs": [
    {
     "data": {
      "text/plain": [
       "{'Yes': 477, \"Don't know\": 408, 'No': 374}"
      ]
     },
     "execution_count": 27,
     "metadata": {},
     "output_type": "execute_result"
    }
   ],
   "source": [
    "benefits"
   ]
  },
  {
   "cell_type": "code",
   "execution_count": 28,
   "id": "324fa8a1",
   "metadata": {},
   "outputs": [],
   "source": [
    "#create a dictionary to see the values in work_interfere columumns\n",
    "work_interfere = {}\n",
    "for work in df['work_interfere']:\n",
    "    if work in work_interfere:\n",
    "        work_interfere[work] += 1\n",
    "    else:\n",
    "        work_interfere[work] = 1"
   ]
  },
  {
   "cell_type": "code",
   "execution_count": 29,
   "id": "05b45447",
   "metadata": {},
   "outputs": [
    {
     "data": {
      "text/plain": [
       "{'Often': 144, 'Rarely': 173, 'Never': 213, 'Sometimes': 465, nan: 264}"
      ]
     },
     "execution_count": 29,
     "metadata": {},
     "output_type": "execute_result"
    }
   ],
   "source": [
    "work_interfere"
   ]
  },
  {
   "cell_type": "code",
   "execution_count": 30,
   "id": "b9f7b375",
   "metadata": {},
   "outputs": [],
   "source": [
    "#create a dictionary to see the values in wellness_program columumns\n",
    "wellness_program = {}\n",
    "for program in df['wellness_program']:\n",
    "    if program in wellness_program:\n",
    "        wellness_program[program] += 1\n",
    "    else:\n",
    "        wellness_program[program] = 1"
   ]
  },
  {
   "cell_type": "code",
   "execution_count": 31,
   "id": "f809e4e4",
   "metadata": {},
   "outputs": [
    {
     "data": {
      "text/plain": [
       "{'No': 842, \"Don't know\": 188, 'Yes': 229}"
      ]
     },
     "execution_count": 31,
     "metadata": {},
     "output_type": "execute_result"
    }
   ],
   "source": [
    "wellness_program"
   ]
  },
  {
   "cell_type": "code",
   "execution_count": 32,
   "id": "7097f7c0",
   "metadata": {},
   "outputs": [],
   "source": [
    "#create a dictionary to see the kind of values in care_options columumns\n",
    "care_options = {}\n",
    "for care in df['care_options']:\n",
    "    if care in care_options:\n",
    "        care_options[care] += 1\n",
    "    else:\n",
    "        care_options[care] = 1"
   ]
  },
  {
   "cell_type": "code",
   "execution_count": 33,
   "id": "d71ce7d7",
   "metadata": {},
   "outputs": [
    {
     "data": {
      "text/plain": [
       "{'Not sure': 314, 'No': 501, 'Yes': 444}"
      ]
     },
     "execution_count": 33,
     "metadata": {},
     "output_type": "execute_result"
    }
   ],
   "source": [
    "care_options"
   ]
  },
  {
   "cell_type": "code",
   "execution_count": 34,
   "id": "ce6042d8",
   "metadata": {},
   "outputs": [],
   "source": [
    "#create a dictionary to see the values in mental_health_consequence columumns\n",
    "mental_health_consequence = {}\n",
    "for options in df['mental_health_consequence']:\n",
    "    if options in mental_health_consequence:\n",
    "        mental_health_consequence[options] += 1\n",
    "    else:\n",
    "        mental_health_consequence[options] = 1"
   ]
  },
  {
   "cell_type": "code",
   "execution_count": 35,
   "id": "beb5d12e",
   "metadata": {},
   "outputs": [
    {
     "data": {
      "text/plain": [
       "{'No': 490, 'Maybe': 477, 'Yes': 292}"
      ]
     },
     "execution_count": 35,
     "metadata": {},
     "output_type": "execute_result"
    }
   ],
   "source": [
    "mental_health_consequence"
   ]
  },
  {
   "cell_type": "code",
   "execution_count": 36,
   "id": "d9b6a5d0",
   "metadata": {},
   "outputs": [],
   "source": [
    "#create a dictionary to see the values in anonymity columumns\n",
    "anonymity = {}\n",
    "for options in df['anonymity']:\n",
    "    if options in anonymity:\n",
    "        anonymity[options] += 1\n",
    "    else:\n",
    "        anonymity[options] = 1"
   ]
  },
  {
   "cell_type": "code",
   "execution_count": 37,
   "id": "925b8ecc",
   "metadata": {},
   "outputs": [
    {
     "data": {
      "text/plain": [
       "{'Yes': 375, \"Don't know\": 819, 'No': 65}"
      ]
     },
     "execution_count": 37,
     "metadata": {},
     "output_type": "execute_result"
    }
   ],
   "source": [
    "anonymity"
   ]
  },
  {
   "cell_type": "code",
   "execution_count": 38,
   "id": "79b63917",
   "metadata": {},
   "outputs": [],
   "source": [
    "#create a dictionary to see the kind of values in coworkers columumns\n",
    "coworkers = {}\n",
    "for options in df['coworkers']:\n",
    "    if options in coworkers:\n",
    "        coworkers[options] += 1\n",
    "    else:\n",
    "        coworkers[options] = 1"
   ]
  },
  {
   "cell_type": "code",
   "execution_count": 39,
   "id": "4d92e47c",
   "metadata": {},
   "outputs": [
    {
     "data": {
      "text/plain": [
       "{'Some of them': 774, 'No': 260, 'Yes': 225}"
      ]
     },
     "execution_count": 39,
     "metadata": {},
     "output_type": "execute_result"
    }
   ],
   "source": [
    "coworkers"
   ]
  },
  {
   "cell_type": "code",
   "execution_count": 40,
   "id": "13531d1b",
   "metadata": {},
   "outputs": [],
   "source": [
    "#create a dictionary to see the values in phys_health_consequence columumns\n",
    "phys_health_consequence = {}\n",
    "for options in df['phys_health_consequence']:\n",
    "    if options in phys_health_consequence:\n",
    "        phys_health_consequence[options] += 1\n",
    "    else:\n",
    "        phys_health_consequence[options] = 1"
   ]
  },
  {
   "cell_type": "code",
   "execution_count": 41,
   "id": "63d654ae",
   "metadata": {},
   "outputs": [
    {
     "data": {
      "text/plain": [
       "{'No': 925, 'Yes': 61, 'Maybe': 273}"
      ]
     },
     "execution_count": 41,
     "metadata": {},
     "output_type": "execute_result"
    }
   ],
   "source": [
    "phys_health_consequence"
   ]
  },
  {
   "cell_type": "code",
   "execution_count": 42,
   "id": "b9fc82d0",
   "metadata": {},
   "outputs": [],
   "source": [
    "#create a dictionary to see the values in mental_health_interview columumns\n",
    "mental_health_interview = {}\n",
    "for options in df['mental_health_interview']:\n",
    "    if options in mental_health_interview:\n",
    "        mental_health_interview[options] += 1\n",
    "    else:\n",
    "        mental_health_interview[options] = 1"
   ]
  },
  {
   "cell_type": "code",
   "execution_count": 43,
   "id": "0116dcdf",
   "metadata": {},
   "outputs": [
    {
     "data": {
      "text/plain": [
       "{'No': 1008, 'Yes': 44, 'Maybe': 207}"
      ]
     },
     "execution_count": 43,
     "metadata": {},
     "output_type": "execute_result"
    }
   ],
   "source": [
    "mental_health_interview"
   ]
  },
  {
   "cell_type": "code",
   "execution_count": 44,
   "id": "c802dbb6",
   "metadata": {},
   "outputs": [],
   "source": [
    "#create a dictionary to see the values in supervisor columumns\n",
    "supervisor = {}\n",
    "for options in df['supervisor']:\n",
    "    if options in supervisor:\n",
    "        supervisor[options] += 1\n",
    "    else:\n",
    "        supervisor[options] = 1"
   ]
  },
  {
   "cell_type": "code",
   "execution_count": 45,
   "id": "23ab6274",
   "metadata": {},
   "outputs": [
    {
     "data": {
      "text/plain": [
       "{'Yes': 516, 'No': 393, 'Some of them': 350}"
      ]
     },
     "execution_count": 45,
     "metadata": {},
     "output_type": "execute_result"
    }
   ],
   "source": [
    "supervisor"
   ]
  },
  {
   "cell_type": "code",
   "execution_count": 46,
   "id": "49585869",
   "metadata": {},
   "outputs": [],
   "source": [
    "#create a dictionary to see the values in phys_health_interview columumns\n",
    "phys_health_interview = {}\n",
    "for options in df['phys_health_interview']:\n",
    "    if options in phys_health_interview:\n",
    "        phys_health_interview[options] += 1\n",
    "    else:\n",
    "        phys_health_interview[options] = 1"
   ]
  },
  {
   "cell_type": "code",
   "execution_count": 47,
   "id": "45f0f96c",
   "metadata": {},
   "outputs": [
    {
     "data": {
      "text/plain": [
       "{'Maybe': 557, 'No': 500, 'Yes': 202}"
      ]
     },
     "execution_count": 47,
     "metadata": {},
     "output_type": "execute_result"
    }
   ],
   "source": [
    "phys_health_interview"
   ]
  },
  {
   "cell_type": "code",
   "execution_count": 48,
   "id": "b464159b",
   "metadata": {},
   "outputs": [],
   "source": [
    "#create a dictionary to see the values in obs_consequences columumns\n",
    "obs_consequence = {}\n",
    "for options in df['obs_consequence']:\n",
    "    if options in obs_consequence:\n",
    "        obs_consequence[options] += 1\n",
    "    else:\n",
    "        obs_consequence[options] = 1"
   ]
  },
  {
   "cell_type": "code",
   "execution_count": 49,
   "id": "ebf04931",
   "metadata": {},
   "outputs": [
    {
     "data": {
      "text/plain": [
       "{'No': 1075, 'Yes': 184}"
      ]
     },
     "execution_count": 49,
     "metadata": {},
     "output_type": "execute_result"
    }
   ],
   "source": [
    "obs_consequence"
   ]
  },
  {
   "cell_type": "markdown",
   "id": "4f63b6df",
   "metadata": {},
   "source": [
    "# Label Encoding #2"
   ]
  },
  {
   "cell_type": "code",
   "execution_count": 50,
   "id": "1f1c4ddf",
   "metadata": {},
   "outputs": [],
   "source": [
    "le2 = preprocessing.LabelEncoder()"
   ]
  },
  {
   "cell_type": "code",
   "execution_count": 51,
   "id": "1804fce3",
   "metadata": {},
   "outputs": [],
   "source": [
    "# use df.apply() to apply le.fit_transform to all columns without N/A"
   ]
  },
  {
   "cell_type": "code",
   "execution_count": 52,
   "id": "7c9b09aa",
   "metadata": {},
   "outputs": [],
   "source": [
    "df[['obs_consequence', 'mental_vs_physical']] = df[['obs_consequence', 'mental_vs_physical']].apply(le2.fit_transform)"
   ]
  },
  {
   "cell_type": "code",
   "execution_count": 53,
   "id": "5218bdf8",
   "metadata": {},
   "outputs": [],
   "source": [
    "df[['phys_health_consequence', 'mental_health_consequence', 'seek_help', 'benefits', 'care_options', 'wellness_program']] = df[['phys_health_consequence', 'mental_health_consequence', 'seek_help', 'benefits', 'care_options', 'wellness_program']].apply(le2.fit_transform)"
   ]
  },
  {
   "cell_type": "code",
   "execution_count": 54,
   "id": "a1270b36",
   "metadata": {},
   "outputs": [],
   "source": [
    "df[['coworkers', 'supervisor', 'anonymity']] = df[['coworkers', 'supervisor', 'anonymity']].apply(le2.fit_transform)"
   ]
  },
  {
   "cell_type": "code",
   "execution_count": 55,
   "id": "5bee2d81",
   "metadata": {},
   "outputs": [],
   "source": [
    "df[['phys_health_interview', 'mental_health_interview']] = df[['phys_health_interview', 'mental_health_interview']].apply(le2.fit_transform)"
   ]
  },
  {
   "cell_type": "code",
   "execution_count": 56,
   "id": "1a84f1d6",
   "metadata": {},
   "outputs": [],
   "source": [
    "#Replacing NANS with \"No\" and transforming data.\n",
    "df['self_employed'].fillna(value='No', inplace=True)\n",
    "df[['self_employed']] = df[['self_employed']].apply(le2.fit_transform)\n"
   ]
  },
  {
   "cell_type": "code",
   "execution_count": 57,
   "id": "b248cff7",
   "metadata": {},
   "outputs": [],
   "source": [
    "#Replacing NANS with \"Dont know\" and transforming data.\n",
    "df['work_interfere'].fillna(value='Don\\'t know', inplace=True)\n",
    "df[['work_interfere']] = df[['work_interfere']].apply(le2.fit_transform)"
   ]
  },
  {
   "cell_type": "code",
   "execution_count": 58,
   "id": "5533546d",
   "metadata": {},
   "outputs": [],
   "source": [
    "df[['Country']] = df[['Country']].apply(le2.fit_transform)"
   ]
  },
  {
   "cell_type": "code",
   "execution_count": 59,
   "id": "419b6eca",
   "metadata": {},
   "outputs": [],
   "source": [
    "#remove state column\n",
    "df = df.drop(columns='state')"
   ]
  },
  {
   "cell_type": "code",
   "execution_count": 60,
   "id": "61be1f68",
   "metadata": {},
   "outputs": [
    {
     "data": {
      "text/html": [
       "<div>\n",
       "<style scoped>\n",
       "    .dataframe tbody tr th:only-of-type {\n",
       "        vertical-align: middle;\n",
       "    }\n",
       "\n",
       "    .dataframe tbody tr th {\n",
       "        vertical-align: top;\n",
       "    }\n",
       "\n",
       "    .dataframe thead th {\n",
       "        text-align: right;\n",
       "    }\n",
       "</style>\n",
       "<table border=\"1\" class=\"dataframe\">\n",
       "  <thead>\n",
       "    <tr style=\"text-align: right;\">\n",
       "      <th></th>\n",
       "      <th>Timestamp</th>\n",
       "      <th>Age</th>\n",
       "      <th>Gender</th>\n",
       "      <th>Country</th>\n",
       "      <th>self_employed</th>\n",
       "      <th>family_history</th>\n",
       "      <th>treatment</th>\n",
       "      <th>work_interfere</th>\n",
       "      <th>no_employees</th>\n",
       "      <th>remote_work</th>\n",
       "      <th>...</th>\n",
       "      <th>anonymity</th>\n",
       "      <th>leave</th>\n",
       "      <th>mental_health_consequence</th>\n",
       "      <th>phys_health_consequence</th>\n",
       "      <th>coworkers</th>\n",
       "      <th>supervisor</th>\n",
       "      <th>mental_health_interview</th>\n",
       "      <th>phys_health_interview</th>\n",
       "      <th>mental_vs_physical</th>\n",
       "      <th>obs_consequence</th>\n",
       "    </tr>\n",
       "  </thead>\n",
       "  <tbody>\n",
       "    <tr>\n",
       "      <th>0</th>\n",
       "      <td>2014-08-27 11:29:31</td>\n",
       "      <td>37</td>\n",
       "      <td>1</td>\n",
       "      <td>45</td>\n",
       "      <td>0</td>\n",
       "      <td>0</td>\n",
       "      <td>1</td>\n",
       "      <td>2</td>\n",
       "      <td>1</td>\n",
       "      <td>0</td>\n",
       "      <td>...</td>\n",
       "      <td>2</td>\n",
       "      <td>1</td>\n",
       "      <td>1</td>\n",
       "      <td>1</td>\n",
       "      <td>1</td>\n",
       "      <td>2</td>\n",
       "      <td>1</td>\n",
       "      <td>0</td>\n",
       "      <td>2</td>\n",
       "      <td>0</td>\n",
       "    </tr>\n",
       "    <tr>\n",
       "      <th>1</th>\n",
       "      <td>2014-08-27 11:29:37</td>\n",
       "      <td>44</td>\n",
       "      <td>0</td>\n",
       "      <td>45</td>\n",
       "      <td>0</td>\n",
       "      <td>0</td>\n",
       "      <td>0</td>\n",
       "      <td>3</td>\n",
       "      <td>5</td>\n",
       "      <td>0</td>\n",
       "      <td>...</td>\n",
       "      <td>0</td>\n",
       "      <td>4</td>\n",
       "      <td>0</td>\n",
       "      <td>1</td>\n",
       "      <td>0</td>\n",
       "      <td>0</td>\n",
       "      <td>1</td>\n",
       "      <td>1</td>\n",
       "      <td>0</td>\n",
       "      <td>0</td>\n",
       "    </tr>\n",
       "    <tr>\n",
       "      <th>2</th>\n",
       "      <td>2014-08-27 11:29:44</td>\n",
       "      <td>32</td>\n",
       "      <td>0</td>\n",
       "      <td>7</td>\n",
       "      <td>0</td>\n",
       "      <td>0</td>\n",
       "      <td>0</td>\n",
       "      <td>3</td>\n",
       "      <td>1</td>\n",
       "      <td>0</td>\n",
       "      <td>...</td>\n",
       "      <td>0</td>\n",
       "      <td>2</td>\n",
       "      <td>1</td>\n",
       "      <td>1</td>\n",
       "      <td>2</td>\n",
       "      <td>2</td>\n",
       "      <td>2</td>\n",
       "      <td>2</td>\n",
       "      <td>1</td>\n",
       "      <td>0</td>\n",
       "    </tr>\n",
       "    <tr>\n",
       "      <th>3</th>\n",
       "      <td>2014-08-27 11:29:46</td>\n",
       "      <td>31</td>\n",
       "      <td>0</td>\n",
       "      <td>44</td>\n",
       "      <td>0</td>\n",
       "      <td>1</td>\n",
       "      <td>1</td>\n",
       "      <td>2</td>\n",
       "      <td>2</td>\n",
       "      <td>0</td>\n",
       "      <td>...</td>\n",
       "      <td>1</td>\n",
       "      <td>2</td>\n",
       "      <td>2</td>\n",
       "      <td>2</td>\n",
       "      <td>1</td>\n",
       "      <td>0</td>\n",
       "      <td>0</td>\n",
       "      <td>0</td>\n",
       "      <td>1</td>\n",
       "      <td>1</td>\n",
       "    </tr>\n",
       "    <tr>\n",
       "      <th>4</th>\n",
       "      <td>2014-08-27 11:30:22</td>\n",
       "      <td>31</td>\n",
       "      <td>0</td>\n",
       "      <td>45</td>\n",
       "      <td>0</td>\n",
       "      <td>0</td>\n",
       "      <td>0</td>\n",
       "      <td>1</td>\n",
       "      <td>3</td>\n",
       "      <td>1</td>\n",
       "      <td>...</td>\n",
       "      <td>0</td>\n",
       "      <td>4</td>\n",
       "      <td>1</td>\n",
       "      <td>1</td>\n",
       "      <td>1</td>\n",
       "      <td>2</td>\n",
       "      <td>2</td>\n",
       "      <td>2</td>\n",
       "      <td>0</td>\n",
       "      <td>0</td>\n",
       "    </tr>\n",
       "  </tbody>\n",
       "</table>\n",
       "<p>5 rows × 25 columns</p>\n",
       "</div>"
      ],
      "text/plain": [
       "            Timestamp  Age  Gender  Country  self_employed  family_history  \\\n",
       "0 2014-08-27 11:29:31   37       1       45              0               0   \n",
       "1 2014-08-27 11:29:37   44       0       45              0               0   \n",
       "2 2014-08-27 11:29:44   32       0        7              0               0   \n",
       "3 2014-08-27 11:29:46   31       0       44              0               1   \n",
       "4 2014-08-27 11:30:22   31       0       45              0               0   \n",
       "\n",
       "   treatment  work_interfere  no_employees  remote_work  ...  anonymity  \\\n",
       "0          1               2             1            0  ...          2   \n",
       "1          0               3             5            0  ...          0   \n",
       "2          0               3             1            0  ...          0   \n",
       "3          1               2             2            0  ...          1   \n",
       "4          0               1             3            1  ...          0   \n",
       "\n",
       "   leave  mental_health_consequence  phys_health_consequence  coworkers  \\\n",
       "0      1                          1                        1          1   \n",
       "1      4                          0                        1          0   \n",
       "2      2                          1                        1          2   \n",
       "3      2                          2                        2          1   \n",
       "4      4                          1                        1          1   \n",
       "\n",
       "   supervisor  mental_health_interview  phys_health_interview  \\\n",
       "0           2                        1                      0   \n",
       "1           0                        1                      1   \n",
       "2           2                        2                      2   \n",
       "3           0                        0                      0   \n",
       "4           2                        2                      2   \n",
       "\n",
       "   mental_vs_physical  obs_consequence  \n",
       "0                   2                0  \n",
       "1                   0                0  \n",
       "2                   1                0  \n",
       "3                   1                1  \n",
       "4                   0                0  \n",
       "\n",
       "[5 rows x 25 columns]"
      ]
     },
     "execution_count": 60,
     "metadata": {},
     "output_type": "execute_result"
    }
   ],
   "source": [
    "df.head()"
   ]
  },
  {
   "cell_type": "code",
   "execution_count": 61,
   "id": "f90ef154",
   "metadata": {},
   "outputs": [],
   "source": [
    "#filling missing value for age with median \n",
    "df['Age'].fillna(df['Age'].median(), inplace=True)"
   ]
  },
  {
   "cell_type": "code",
   "execution_count": 62,
   "id": "8eccceb7",
   "metadata": {},
   "outputs": [],
   "source": [
    "# Fill the age >18 and <120 with median age value\n",
    "a = pd.Series(df['Age'])\n",
    "a[a<18] = df['Age'].median()\n",
    "df['Age'] = a\n",
    "a = pd.Series(df['Age'])\n",
    "a[a>120] = df['Age'].median()\n",
    "df['Age'] = a\n",
    "\n",
    "#Ranges of Age\n",
    "df['age_range'] = pd.cut(df['Age'], [0,20,30,65,100], labels=[\"0-20\", \"21-30\", \"31-65\", \"66-100\"], include_lowest=True)"
   ]
  },
  {
   "cell_type": "code",
   "execution_count": 63,
   "id": "a7615d3f",
   "metadata": {},
   "outputs": [
    {
     "data": {
      "text/html": [
       "<div>\n",
       "<style scoped>\n",
       "    .dataframe tbody tr th:only-of-type {\n",
       "        vertical-align: middle;\n",
       "    }\n",
       "\n",
       "    .dataframe tbody tr th {\n",
       "        vertical-align: top;\n",
       "    }\n",
       "\n",
       "    .dataframe thead th {\n",
       "        text-align: right;\n",
       "    }\n",
       "</style>\n",
       "<table border=\"1\" class=\"dataframe\">\n",
       "  <thead>\n",
       "    <tr style=\"text-align: right;\">\n",
       "      <th></th>\n",
       "      <th>Timestamp</th>\n",
       "      <th>Age</th>\n",
       "      <th>Gender</th>\n",
       "      <th>Country</th>\n",
       "      <th>self_employed</th>\n",
       "      <th>family_history</th>\n",
       "      <th>treatment</th>\n",
       "      <th>work_interfere</th>\n",
       "      <th>no_employees</th>\n",
       "      <th>remote_work</th>\n",
       "      <th>...</th>\n",
       "      <th>leave</th>\n",
       "      <th>mental_health_consequence</th>\n",
       "      <th>phys_health_consequence</th>\n",
       "      <th>coworkers</th>\n",
       "      <th>supervisor</th>\n",
       "      <th>mental_health_interview</th>\n",
       "      <th>phys_health_interview</th>\n",
       "      <th>mental_vs_physical</th>\n",
       "      <th>obs_consequence</th>\n",
       "      <th>age_range</th>\n",
       "    </tr>\n",
       "  </thead>\n",
       "  <tbody>\n",
       "    <tr>\n",
       "      <th>0</th>\n",
       "      <td>2014-08-27 11:29:31</td>\n",
       "      <td>37</td>\n",
       "      <td>1</td>\n",
       "      <td>45</td>\n",
       "      <td>0</td>\n",
       "      <td>0</td>\n",
       "      <td>1</td>\n",
       "      <td>2</td>\n",
       "      <td>1</td>\n",
       "      <td>0</td>\n",
       "      <td>...</td>\n",
       "      <td>1</td>\n",
       "      <td>1</td>\n",
       "      <td>1</td>\n",
       "      <td>1</td>\n",
       "      <td>2</td>\n",
       "      <td>1</td>\n",
       "      <td>0</td>\n",
       "      <td>2</td>\n",
       "      <td>0</td>\n",
       "      <td>31-65</td>\n",
       "    </tr>\n",
       "    <tr>\n",
       "      <th>1</th>\n",
       "      <td>2014-08-27 11:29:37</td>\n",
       "      <td>44</td>\n",
       "      <td>0</td>\n",
       "      <td>45</td>\n",
       "      <td>0</td>\n",
       "      <td>0</td>\n",
       "      <td>0</td>\n",
       "      <td>3</td>\n",
       "      <td>5</td>\n",
       "      <td>0</td>\n",
       "      <td>...</td>\n",
       "      <td>4</td>\n",
       "      <td>0</td>\n",
       "      <td>1</td>\n",
       "      <td>0</td>\n",
       "      <td>0</td>\n",
       "      <td>1</td>\n",
       "      <td>1</td>\n",
       "      <td>0</td>\n",
       "      <td>0</td>\n",
       "      <td>31-65</td>\n",
       "    </tr>\n",
       "    <tr>\n",
       "      <th>2</th>\n",
       "      <td>2014-08-27 11:29:44</td>\n",
       "      <td>32</td>\n",
       "      <td>0</td>\n",
       "      <td>7</td>\n",
       "      <td>0</td>\n",
       "      <td>0</td>\n",
       "      <td>0</td>\n",
       "      <td>3</td>\n",
       "      <td>1</td>\n",
       "      <td>0</td>\n",
       "      <td>...</td>\n",
       "      <td>2</td>\n",
       "      <td>1</td>\n",
       "      <td>1</td>\n",
       "      <td>2</td>\n",
       "      <td>2</td>\n",
       "      <td>2</td>\n",
       "      <td>2</td>\n",
       "      <td>1</td>\n",
       "      <td>0</td>\n",
       "      <td>31-65</td>\n",
       "    </tr>\n",
       "    <tr>\n",
       "      <th>3</th>\n",
       "      <td>2014-08-27 11:29:46</td>\n",
       "      <td>31</td>\n",
       "      <td>0</td>\n",
       "      <td>44</td>\n",
       "      <td>0</td>\n",
       "      <td>1</td>\n",
       "      <td>1</td>\n",
       "      <td>2</td>\n",
       "      <td>2</td>\n",
       "      <td>0</td>\n",
       "      <td>...</td>\n",
       "      <td>2</td>\n",
       "      <td>2</td>\n",
       "      <td>2</td>\n",
       "      <td>1</td>\n",
       "      <td>0</td>\n",
       "      <td>0</td>\n",
       "      <td>0</td>\n",
       "      <td>1</td>\n",
       "      <td>1</td>\n",
       "      <td>31-65</td>\n",
       "    </tr>\n",
       "    <tr>\n",
       "      <th>4</th>\n",
       "      <td>2014-08-27 11:30:22</td>\n",
       "      <td>31</td>\n",
       "      <td>0</td>\n",
       "      <td>45</td>\n",
       "      <td>0</td>\n",
       "      <td>0</td>\n",
       "      <td>0</td>\n",
       "      <td>1</td>\n",
       "      <td>3</td>\n",
       "      <td>1</td>\n",
       "      <td>...</td>\n",
       "      <td>4</td>\n",
       "      <td>1</td>\n",
       "      <td>1</td>\n",
       "      <td>1</td>\n",
       "      <td>2</td>\n",
       "      <td>2</td>\n",
       "      <td>2</td>\n",
       "      <td>0</td>\n",
       "      <td>0</td>\n",
       "      <td>31-65</td>\n",
       "    </tr>\n",
       "  </tbody>\n",
       "</table>\n",
       "<p>5 rows × 26 columns</p>\n",
       "</div>"
      ],
      "text/plain": [
       "            Timestamp  Age  Gender  Country  self_employed  family_history  \\\n",
       "0 2014-08-27 11:29:31   37       1       45              0               0   \n",
       "1 2014-08-27 11:29:37   44       0       45              0               0   \n",
       "2 2014-08-27 11:29:44   32       0        7              0               0   \n",
       "3 2014-08-27 11:29:46   31       0       44              0               1   \n",
       "4 2014-08-27 11:30:22   31       0       45              0               0   \n",
       "\n",
       "   treatment  work_interfere  no_employees  remote_work  ...  leave  \\\n",
       "0          1               2             1            0  ...      1   \n",
       "1          0               3             5            0  ...      4   \n",
       "2          0               3             1            0  ...      2   \n",
       "3          1               2             2            0  ...      2   \n",
       "4          0               1             3            1  ...      4   \n",
       "\n",
       "   mental_health_consequence  phys_health_consequence  coworkers  supervisor  \\\n",
       "0                          1                        1          1           2   \n",
       "1                          0                        1          0           0   \n",
       "2                          1                        1          2           2   \n",
       "3                          2                        2          1           0   \n",
       "4                          1                        1          1           2   \n",
       "\n",
       "   mental_health_interview  phys_health_interview  mental_vs_physical  \\\n",
       "0                        1                      0                   2   \n",
       "1                        1                      1                   0   \n",
       "2                        2                      2                   1   \n",
       "3                        0                      0                   1   \n",
       "4                        2                      2                   0   \n",
       "\n",
       "   obs_consequence  age_range  \n",
       "0                0      31-65  \n",
       "1                0      31-65  \n",
       "2                0      31-65  \n",
       "3                1      31-65  \n",
       "4                0      31-65  \n",
       "\n",
       "[5 rows x 26 columns]"
      ]
     },
     "execution_count": 63,
     "metadata": {},
     "output_type": "execute_result"
    }
   ],
   "source": [
    "df.head()"
   ]
  },
  {
   "cell_type": "code",
   "execution_count": 64,
   "id": "eebfb040",
   "metadata": {},
   "outputs": [
    {
     "name": "stdout",
     "output_type": "stream",
     "text": [
      "[2 3 1 4 0]\n"
     ]
    }
   ],
   "source": [
    "print(df['work_interfere'].unique())"
   ]
  },
  {
   "cell_type": "code",
   "execution_count": 65,
   "id": "3b5c9037",
   "metadata": {},
   "outputs": [],
   "source": [
    "#Removing the Timestamp column\n",
    "df = df.drop('Timestamp', axis=1)"
   ]
  },
  {
   "cell_type": "markdown",
   "id": "e211f97d",
   "metadata": {},
   "source": [
    "## Distributions Of Feature Values"
   ]
  },
  {
   "cell_type": "code",
   "execution_count": 66,
   "id": "2450b0cf",
   "metadata": {},
   "outputs": [
    {
     "name": "stdout",
     "output_type": "stream",
     "text": [
      "<class 'pandas.core.frame.DataFrame'>\n",
      "RangeIndex: 1259 entries, 0 to 1258\n",
      "Data columns (total 25 columns):\n",
      " #   Column                     Non-Null Count  Dtype   \n",
      "---  ------                     --------------  -----   \n",
      " 0   Age                        1259 non-null   int64   \n",
      " 1   Gender                     1259 non-null   int64   \n",
      " 2   Country                    1259 non-null   int32   \n",
      " 3   self_employed              1259 non-null   int32   \n",
      " 4   family_history             1259 non-null   int32   \n",
      " 5   treatment                  1259 non-null   int32   \n",
      " 6   work_interfere             1259 non-null   int32   \n",
      " 7   no_employees               1259 non-null   int64   \n",
      " 8   remote_work                1259 non-null   int32   \n",
      " 9   tech_company               1259 non-null   int32   \n",
      " 10  benefits                   1259 non-null   int32   \n",
      " 11  care_options               1259 non-null   int32   \n",
      " 12  wellness_program           1259 non-null   int32   \n",
      " 13  seek_help                  1259 non-null   int32   \n",
      " 14  anonymity                  1259 non-null   int32   \n",
      " 15  leave                      1259 non-null   int64   \n",
      " 16  mental_health_consequence  1259 non-null   int32   \n",
      " 17  phys_health_consequence    1259 non-null   int32   \n",
      " 18  coworkers                  1259 non-null   int32   \n",
      " 19  supervisor                 1259 non-null   int32   \n",
      " 20  mental_health_interview    1259 non-null   int32   \n",
      " 21  phys_health_interview      1259 non-null   int32   \n",
      " 22  mental_vs_physical         1259 non-null   int32   \n",
      " 23  obs_consequence            1259 non-null   int32   \n",
      " 24  age_range                  1259 non-null   category\n",
      "dtypes: category(1), int32(20), int64(4)\n",
      "memory usage: 139.3 KB\n"
     ]
    }
   ],
   "source": [
    "df.info()"
   ]
  },
  {
   "cell_type": "code",
   "execution_count": 70,
   "id": "b5b07eeb",
   "metadata": {},
   "outputs": [],
   "source": [
    "# save the data to a new csv file\n",
    "df.to_csv(\"C:/Users/keshi/Downloads/Medical/EDA.xlsx\")"
   ]
  }
 ],
 "metadata": {
  "kernelspec": {
   "display_name": "Python 3 (ipykernel)",
   "language": "python",
   "name": "python3"
  },
  "language_info": {
   "codemirror_mode": {
    "name": "ipython",
    "version": 3
   },
   "file_extension": ".py",
   "mimetype": "text/x-python",
   "name": "python",
   "nbconvert_exporter": "python",
   "pygments_lexer": "ipython3",
   "version": "3.11.5"
  }
 },
 "nbformat": 4,
 "nbformat_minor": 5
}
